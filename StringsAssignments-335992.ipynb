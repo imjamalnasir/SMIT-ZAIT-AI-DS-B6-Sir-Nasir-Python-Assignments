{
 "cells": [
  {
   "cell_type": "markdown",
   "id": "6d596da8-ccd8-46f9-9a36-1ee0bc8d8b2c",
   "metadata": {},
   "source": [
    "# Strings Assignments\n",
    "### Name: Jamal Nasir\n",
    "### Roll Number: 335992"
   ]
  },
  {
   "cell_type": "markdown",
   "id": "24e07ed8-f2d9-4e24-be9d-0ea7032788f4",
   "metadata": {},
   "source": [
    "1. Write a program that accepts a string from user. Your program should count and display number of\n",
    "vowels in that string."
   ]
  },
  {
   "cell_type": "code",
   "execution_count": 2,
   "id": "54355035-133d-4d74-8406-50c9fdb027e4",
   "metadata": {},
   "outputs": [
    {
     "name": "stdin",
     "output_type": "stream",
     "text": [
      "write word: Jamal Nasir\n"
     ]
    },
    {
     "name": "stdout",
     "output_type": "stream",
     "text": [
      " the number of vowels  4 \n"
     ]
    }
   ],
   "source": [
    "string = input('write word:')\n",
    "vowel_count= 0\n",
    "for char in (string):\n",
    "    if char in 'aeiou':\n",
    "        vowel_count += 1\n",
    "print(f' the number of vowels  {vowel_count} ')"
   ]
  },
  {
   "cell_type": "markdown",
   "id": "70472dc1-2853-4f1e-89fa-45d650cb69be",
   "metadata": {},
   "source": [
    "2. Write a program that reads a string from keyboard and display:\n",
    "* The number of uppercase letters in the string\n",
    "* The number of lowercase letters in the string\n",
    "* The number of digits in the string\n",
    "* The number of whitespace characters in the string"
   ]
  },
  {
   "cell_type": "code",
   "execution_count": 4,
   "id": "de592efa-4a8d-49b2-93aa-57aafb70a3b0",
   "metadata": {},
   "outputs": [
    {
     "name": "stdin",
     "output_type": "stream",
     "text": [
      "Enter a string:  My Name is Jamal Nasir and Roll Number is 335992\n"
     ]
    },
    {
     "name": "stdout",
     "output_type": "stream",
     "text": [
      "Number of uppercase letters: 6\n",
      "Number of lowercase letters: 27\n",
      "Number of digits: 6\n",
      "Number of whitespace characters: 9\n"
     ]
    }
   ],
   "source": [
    "string = input(\"Enter a string: \")\n",
    "uppercase_count = 0\n",
    "lowercase_count = 0\n",
    "digit_count = 0\n",
    "whitespace_count = 0\n",
    "for char in string:\n",
    "    if char .isupper():\n",
    "        uppercase_count += 1\n",
    "    elif char .islower():\n",
    "        lowercase_count += 1\n",
    "    elif char.isdigit():\n",
    "        digit_count += 1\n",
    "    elif char.isspace():\n",
    "        whitespace_count += 1\n",
    "print(f\"Number of uppercase letters: {uppercase_count}\")\n",
    "print(f\"Number of lowercase letters: {lowercase_count}\")\n",
    "print(f\"Number of digits: {digit_count}\")\n",
    "print(f\"Number of whitespace characters: {whitespace_count}\")"
   ]
  },
  {
   "cell_type": "markdown",
   "id": "951af556-65bd-4e6b-9489-c9f8b9e4e198",
   "metadata": {},
   "source": [
    "3. Write a Python program that accepts a string from user. Your program should create and display a\n",
    "new string where the first and last characters have been exchanged.\n",
    "For example if the user enters the string 'HELLO' then new string would be 'OELLH'"
   ]
  },
  {
   "cell_type": "code",
   "execution_count": 6,
   "id": "eaed1c8f-fed8-4b01-91d4-35d8c49379b7",
   "metadata": {},
   "outputs": [
    {
     "name": "stdin",
     "output_type": "stream",
     "text": [
      "Enter a string:  Jamal Nasir\n"
     ]
    },
    {
     "name": "stdout",
     "output_type": "stream",
     "text": [
      "risaN lamaJ\n"
     ]
    }
   ],
   "source": [
    "string = input(\"Enter a string: \")\n",
    "if len(string) > 1:\n",
    "    new_string = string[::-1] \n",
    "else:\n",
    "    new_string = string\n",
    "print (new_string)\n",
    "\n"
   ]
  },
  {
   "cell_type": "markdown",
   "id": "16584151-d4ac-4268-97ed-0c87756948f1",
   "metadata": {},
   "source": [
    "4. Write a Python program that accepts a string from user. Your program should create a new string in\n",
    "reverse of first string and display it.\n",
    "For example if the user enters the string 'EXAM' then new string would be 'MAXE'"
   ]
  },
  {
   "cell_type": "code",
   "execution_count": 8,
   "id": "3adcc245-de49-4b2d-aa3c-eaf730f064ff",
   "metadata": {},
   "outputs": [
    {
     "name": "stdin",
     "output_type": "stream",
     "text": [
      "Enter a string:  Jamal\n"
     ]
    },
    {
     "name": "stdout",
     "output_type": "stream",
     "text": [
      "lamaJ\n"
     ]
    }
   ],
   "source": [
    "string = input(\"Enter a string: \")\n",
    "if len(string) > 1:\n",
    "    new_string = string[::-1] \n",
    "else:\n",
    "    new_string = string\n",
    "print (new_string)\n"
   ]
  },
  {
   "cell_type": "markdown",
   "id": "a87945ac-3767-4d8c-83f5-ff04c277900f",
   "metadata": {},
   "source": [
    "5. Write a Python program that accepts a string from user. Your program should create a new string by\n",
    "shifting one position to left.\n",
    "For example if the user enters the string 'examination 2021' then new string would be 'xamination\n",
    "2021e'"
   ]
  },
  {
   "cell_type": "code",
   "execution_count": 10,
   "id": "660843dc-a4d0-414e-976f-5b9672d97e23",
   "metadata": {},
   "outputs": [
    {
     "name": "stdin",
     "output_type": "stream",
     "text": [
      "Enter a string:  rollnumber 335992\n"
     ]
    },
    {
     "name": "stdout",
     "output_type": "stream",
     "text": [
      "ollnumber 335992r\n"
     ]
    }
   ],
   "source": [
    "string = input(\"Enter a string: \")\n",
    "if len(string) > 1:\n",
    "    new_string = string[1:] + string[0]\n",
    "else:\n",
    "    new_string = string\n",
    "print (new_string)"
   ]
  }
 ],
 "metadata": {
  "kernelspec": {
   "display_name": "Python 3 (ipykernel)",
   "language": "python",
   "name": "python3"
  },
  "language_info": {
   "codemirror_mode": {
    "name": "ipython",
    "version": 3
   },
   "file_extension": ".py",
   "mimetype": "text/x-python",
   "name": "python",
   "nbconvert_exporter": "python",
   "pygments_lexer": "ipython3",
   "version": "3.12.7"
  }
 },
 "nbformat": 4,
 "nbformat_minor": 5
}
