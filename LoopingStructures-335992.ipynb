{
 "cells": [
  {
   "cell_type": "markdown",
   "id": "cb4b968f-9d5d-4b75-906b-4c3a64e0e24e",
   "metadata": {},
   "source": [
    "# Looping Structures\n",
    "### Name: Jamal Nasir\n",
    "### Roll Number: 335992"
   ]
  },
  {
   "cell_type": "markdown",
   "id": "778c45f1-dac3-40c3-9a95-05b2eb77a440",
   "metadata": {},
   "source": [
    "1. Write a Python program to print the numbers from 1 to 10 using a for loop."
   ]
  },
  {
   "cell_type": "code",
   "execution_count": 3,
   "id": "06124c9c-5605-4961-a4e9-4f557f1d19af",
   "metadata": {},
   "outputs": [
    {
     "name": "stdout",
     "output_type": "stream",
     "text": [
      "1\n",
      "2\n",
      "3\n",
      "4\n",
      "5\n",
      "6\n",
      "7\n",
      "8\n",
      "9\n",
      "10\n"
     ]
    }
   ],
   "source": [
    "for i in range(1,11):\n",
    "    print(i)"
   ]
  },
  {
   "cell_type": "markdown",
   "id": "11d85364-673e-4e43-9389-71c2f39e2491",
   "metadata": {},
   "source": [
    "2. Write a Python program to print the numbers from 20 to 1 using a while loop."
   ]
  },
  {
   "cell_type": "code",
   "execution_count": 6,
   "id": "29ef6033-5783-43a9-8833-b9276c2b92e2",
   "metadata": {},
   "outputs": [
    {
     "name": "stdout",
     "output_type": "stream",
     "text": [
      "20\n",
      "19\n",
      "18\n",
      "17\n",
      "16\n",
      "15\n",
      "14\n",
      "13\n",
      "12\n",
      "11\n",
      "10\n",
      "9\n",
      "8\n",
      "7\n",
      "6\n",
      "5\n",
      "4\n",
      "3\n",
      "2\n",
      "1\n"
     ]
    }
   ],
   "source": [
    "for i in range(20,0,-1):\n",
    "    print(i)"
   ]
  },
  {
   "cell_type": "markdown",
   "id": "73d0d8e9-876c-46a4-95be-73bf23837f4d",
   "metadata": {},
   "source": [
    "3. Write a program to print even numbers from 1 to 10."
   ]
  },
  {
   "cell_type": "code",
   "execution_count": 9,
   "id": "30495348-09ce-4065-9b72-fbbd9635772a",
   "metadata": {},
   "outputs": [
    {
     "name": "stdout",
     "output_type": "stream",
     "text": [
      "2\n",
      "4\n",
      "6\n",
      "8\n",
      "10\n"
     ]
    }
   ],
   "source": [
    "for i in range(2,11,2):\n",
    "    print(i)"
   ]
  },
  {
   "cell_type": "code",
   "execution_count": 11,
   "id": "015d43d3-ca23-4dd5-ae81-88da6e0f0c9b",
   "metadata": {},
   "outputs": [
    {
     "name": "stdout",
     "output_type": "stream",
     "text": [
      "2\n",
      "4\n",
      "6\n",
      "8\n",
      "10\n"
     ]
    }
   ],
   "source": [
    "for i in range(1,11):\n",
    "    if i % 2 ==0 :\n",
    "        print (i)"
   ]
  },
  {
   "cell_type": "markdown",
   "id": "41231873-8d21-49ae-aa63-e0794650a25c",
   "metadata": {},
   "source": [
    "4. Write a program that prompts the user to enter a number n and prints all the\n",
    "numbers from 1 to n."
   ]
  },
  {
   "cell_type": "code",
   "execution_count": 16,
   "id": "926181f3-97a3-4ff9-be4b-d9f79726e974",
   "metadata": {},
   "outputs": [
    {
     "name": "stdin",
     "output_type": "stream",
     "text": [
      "enter a number:  10\n"
     ]
    },
    {
     "name": "stdout",
     "output_type": "stream",
     "text": [
      "1\n",
      "2\n",
      "3\n",
      "4\n",
      "5\n",
      "6\n",
      "7\n",
      "8\n",
      "9\n",
      "10\n"
     ]
    }
   ],
   "source": [
    "n= int(input(\"enter a number: \"))\n",
    "for i in range(1,n+1):\n",
    "    print(i)"
   ]
  },
  {
   "cell_type": "markdown",
   "id": "039daa04-c518-4df3-9ced-73971efac7b3",
   "metadata": {},
   "source": [
    "5. Write a program that prompts the user to enter a number n, and then prints all the\n",
    "odd numbers between 1 and n."
   ]
  },
  {
   "cell_type": "code",
   "execution_count": 18,
   "id": "f7aadaf5-f82b-4f00-ad6b-b2c4b62325b5",
   "metadata": {},
   "outputs": [
    {
     "name": "stdin",
     "output_type": "stream",
     "text": [
      "enter a number:  10\n"
     ]
    },
    {
     "name": "stdout",
     "output_type": "stream",
     "text": [
      "1\n",
      "3\n",
      "5\n",
      "7\n",
      "9\n"
     ]
    }
   ],
   "source": [
    "n= int(input(\"enter a number: \"))\n",
    "for i in range(1,n+1,2):\n",
    "    print(i)"
   ]
  },
  {
   "cell_type": "code",
   "execution_count": 57,
   "id": "e45c00d0-064d-47f9-a7ae-f22846862af3",
   "metadata": {},
   "outputs": [
    {
     "name": "stdin",
     "output_type": "stream",
     "text": [
      "enter a number:  11\n"
     ]
    },
    {
     "name": "stdout",
     "output_type": "stream",
     "text": [
      "1\n",
      "3\n",
      "5\n",
      "7\n",
      "9\n",
      "11\n"
     ]
    }
   ],
   "source": [
    "n= int(input(\"enter a number: \"))\n",
    "for i in range(1,n+1):\n",
    "    if i % 2 != 0:\n",
    "        print(i)"
   ]
  },
  {
   "cell_type": "markdown",
   "id": "9c42c9a3-7775-42b0-a080-63ef38acf668",
   "metadata": {},
   "source": [
    "6. Write a program that prints 'Happy Birthday!' five times on screen."
   ]
  },
  {
   "cell_type": "code",
   "execution_count": 61,
   "id": "2492688b-71bf-4e39-ac71-76ab40e15b5d",
   "metadata": {},
   "outputs": [
    {
     "name": "stdout",
     "output_type": "stream",
     "text": [
      "Happy Birthday\n",
      "Happy Birthday\n",
      "Happy Birthday\n",
      "Happy Birthday\n",
      "Happy Birthday\n"
     ]
    }
   ],
   "source": [
    "Hb = (\"Happy Birthday\")\n",
    "for i in range(5):\n",
    "    print(Hb)"
   ]
  },
  {
   "cell_type": "markdown",
   "id": "3ebd8790-dd1e-449c-a6b2-45d4b5b27c70",
   "metadata": {},
   "source": [
    "8. Write a program that prompts the user to input a number and prints its multiplication\n",
    "table."
   ]
  },
  {
   "cell_type": "code",
   "execution_count": 34,
   "id": "3d21710a-f270-4869-9358-8df18a187739",
   "metadata": {},
   "outputs": [
    {
     "name": "stdin",
     "output_type": "stream",
     "text": [
      "the number :  5\n"
     ]
    },
    {
     "name": "stdout",
     "output_type": "stream",
     "text": [
      "5\n",
      " 5* 1 = 5\n",
      " 5* 2 = 10\n",
      " 5* 3 = 15\n",
      " 5* 4 = 20\n",
      " 5* 5 = 25\n",
      " 5* 6 = 30\n",
      " 5* 7 = 35\n",
      " 5* 8 = 40\n",
      " 5* 9 = 45\n",
      " 5* 10 = 50\n"
     ]
    }
   ],
   "source": [
    "n= int(input(\"the number : \"))\n",
    "print ( n)\n",
    "for i in range(1,11):\n",
    "    print(f' {n}* {i} = {n*i}')"
   ]
  },
  {
   "cell_type": "markdown",
   "id": "2eb33157-cab7-4f8d-91c4-e5bf03fd96eb",
   "metadata": {},
   "source": [
    "11. Write a program that asks the user for a positive integer value. The program should\n",
    "calculate the sum of all the integers from 1 up to the number entered. For example, if\n",
    "the user enters 20, the loop will find the sum of 1, 2, 3, 4, ... 20.`"
   ]
  },
  {
   "cell_type": "code",
   "execution_count": 74,
   "id": "4c9e1c87-f99b-46b3-9dc3-f387fa643deb",
   "metadata": {},
   "outputs": [
    {
     "name": "stdin",
     "output_type": "stream",
     "text": [
      "enter a number : 20\n"
     ]
    },
    {
     "name": "stdout",
     "output_type": "stream",
     "text": [
      "210\n"
     ]
    }
   ],
   "source": [
    "n= int(input('enter a number :'))\n",
    "for i in range(1,n+1):\n",
    "    total_sum = n * (n+1) // 2\n",
    "print(total_sum)"
   ]
  },
  {
   "cell_type": "markdown",
   "id": "d33d27fb-795c-46a4-8399-3132365a2f5b",
   "metadata": {},
   "source": [
    "15. Write a Python program that prompts the user to enter a base number and an\n",
    "exponent, and then calculates the power of the base to the exponent. The program\n",
    "should not use the exponentiation operator (**) or the math.pow() function. The\n",
    "program should handle both positive and negative exponents."
   ]
  },
  {
   "cell_type": "code",
   "execution_count": 138,
   "id": "96a24b02-1437-4536-a38b-d114c2445f58",
   "metadata": {},
   "outputs": [
    {
     "name": "stdin",
     "output_type": "stream",
     "text": [
      "enter a base number : 2\n",
      "enter a exponent number : -3\n"
     ]
    },
    {
     "name": "stdout",
     "output_type": "stream",
     "text": [
      " 2 raised to the power of -3 is 0.125 \n"
     ]
    }
   ],
   "source": [
    "base= int(input(\"enter a base number :\"))\n",
    "exponent = int(input(\"enter a exponent number :\"))\n",
    "result= 1\n",
    "if exponent > 0:\n",
    "    for i in range( exponent):\n",
    "        result*= base\n",
    "elif exponent < 0:\n",
    "    for i in range(abs(exponent)):\n",
    "        result *= base\n",
    "    result = (1/ result)\n",
    "else:\n",
    "    result= 1\n",
    "print(f\" {base} raised to the power of {exponent} is {result} \")"
   ]
  }
 ],
 "metadata": {
  "kernelspec": {
   "display_name": "Python 3 (ipykernel)",
   "language": "python",
   "name": "python3"
  },
  "language_info": {
   "codemirror_mode": {
    "name": "ipython",
    "version": 3
   },
   "file_extension": ".py",
   "mimetype": "text/x-python",
   "name": "python",
   "nbconvert_exporter": "python",
   "pygments_lexer": "ipython3",
   "version": "3.12.7"
  }
 },
 "nbformat": 4,
 "nbformat_minor": 5
}
