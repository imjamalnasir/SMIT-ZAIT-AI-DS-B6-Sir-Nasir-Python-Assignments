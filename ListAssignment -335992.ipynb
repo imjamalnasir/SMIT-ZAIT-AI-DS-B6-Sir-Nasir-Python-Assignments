{
 "cells": [
  {
   "cell_type": "markdown",
   "id": "6105e60c-d00b-4fe7-9ac9-88a601354e57",
   "metadata": {},
   "source": [
    "# List Assignment\n",
    "### Name: Jamal Nasir\n",
    "### Roll Number: 335992"
   ]
  },
  {
   "cell_type": "markdown",
   "id": "f96e0b28-7285-45e0-8e01-1369184d5a7c",
   "metadata": {},
   "source": [
    "1. Write a program that accepts a list from user and print the alternate element of list."
   ]
  },
  {
   "cell_type": "code",
   "execution_count": 3,
   "id": "df1e549c-64f7-4881-afd4-8b88ee213afd",
   "metadata": {},
   "outputs": [
    {
     "name": "stdin",
     "output_type": "stream",
     "text": [
      "Enter a list of elements separated by spaces:  apple, mango\n"
     ]
    },
    {
     "name": "stdout",
     "output_type": "stream",
     "text": [
      "Alternate elements of the list:\n",
      "apple,\n",
      "mango\n"
     ]
    }
   ],
   "source": [
    "user_input = input(\"Enter a list of elements separated by spaces: \")\n",
    "elements = user_input.split()\n",
    "print(\"Alternate elements of the list:\")\n",
    "for i in range(0, len(elements)): \n",
    "    print(elements[i])"
   ]
  },
  {
   "cell_type": "markdown",
   "id": "01ff3d26-e696-40ad-b750-8be6d58ede8f",
   "metadata": {},
   "source": [
    "2. Write a program that accepts a list from user. Your program should reverse the content of list and\n",
    "display it. Do not use reverse() method."
   ]
  },
  {
   "cell_type": "code",
   "execution_count": 23,
   "id": "c8a5ea6a-596c-49aa-9135-66311a7b8a2c",
   "metadata": {},
   "outputs": [
    {
     "name": "stdin",
     "output_type": "stream",
     "text": [
      "Enter a list of elements separated by spaces:  ab, bb, cc, dd\n"
     ]
    },
    {
     "name": "stdout",
     "output_type": "stream",
     "text": [
      "Reversed list: ['dd', 'cc,', 'bb,', 'ab,']\n"
     ]
    }
   ],
   "source": [
    "user_input = input(\"Enter a list of elements separated by spaces: \")\n",
    "elements = user_input.split()\n",
    "reversed_list = []\n",
    "for i in range(len(elements)-1, -1,-1): \n",
    "    reversed_list.append(elements[i])\n",
    "print(\"Reversed list:\", reversed_list)"
   ]
  },
  {
   "cell_type": "markdown",
   "id": "5b31fe43-2ad2-4a01-ab7b-64a0acf39718",
   "metadata": {},
   "source": [
    "3. Find and display the largest number of a list without using built-in function max(). Your program\n",
    "should ask the user to input values in list from keyboard."
   ]
  },
  {
   "cell_type": "code",
   "execution_count": 29,
   "id": "a3c8bc2d-192f-4f97-a1b7-d797e4ef59aa",
   "metadata": {},
   "outputs": [
    {
     "name": "stdin",
     "output_type": "stream",
     "text": [
      "Enter a list of numbers separated by spaces:  10 11 12 14 44 55 66 \n"
     ]
    },
    {
     "name": "stdout",
     "output_type": "stream",
     "text": [
      "The largest number in the list is: 66\n"
     ]
    }
   ],
   "source": [
    "user_input = input(\"Enter a list of numbers separated by spaces: \")\n",
    "elements = user_input.split()\n",
    "numbers = [int(i) for i in elements]\n",
    "largest = numbers[0] \n",
    "for num in numbers:\n",
    "    if num > largest:\n",
    "        largest = num\n",
    "print(\"The largest number in the list is:\", largest)"
   ]
  },
  {
   "cell_type": "markdown",
   "id": "24591856-8e96-4899-9221-a49be4a74632",
   "metadata": {},
   "source": [
    "5. Write a program that input a string and ask user to delete a given word from a string."
   ]
  },
  {
   "cell_type": "code",
   "execution_count": 33,
   "id": "cf6c6f0d-5826-4536-8b5d-a8957da8f443",
   "metadata": {},
   "outputs": [
    {
     "name": "stdin",
     "output_type": "stream",
     "text": [
      "Enter a string:  my name is asif\n",
      "Enter the word to delete from the string:  delete\n"
     ]
    },
    {
     "name": "stdout",
     "output_type": "stream",
     "text": [
      "Modified string: my name is asif\n"
     ]
    }
   ],
   "source": [
    "original_string = input(\"Enter a string: \")\n",
    "word_to_delete = input(\"Enter the word to delete from the string: \")\n",
    "modified_string = original_string.replace(word_to_delete, \"\")\n",
    "print(\"Modified string:\", modified_string)"
   ]
  },
  {
   "cell_type": "markdown",
   "id": "d3c1288b-be29-49ce-ad16-641453d8a62b",
   "metadata": {},
   "source": [
    "6. Write a program that reads a string from the user containing a date in the form mm/dd/yyyy. It\n",
    "should print the date in the form March 12, 2021."
   ]
  },
  {
   "cell_type": "code",
   "execution_count": 39,
   "id": "4d2eabb7-33af-4a67-9c32-fa329ea187cf",
   "metadata": {},
   "outputs": [
    {
     "name": "stdin",
     "output_type": "stream",
     "text": [
      "Enter the date in mm/dd/yyyy format:  12/14/2024\n"
     ]
    },
    {
     "name": "stdout",
     "output_type": "stream",
     "text": [
      "December 14, 2024\n"
     ]
    }
   ],
   "source": [
    "date_string = input(\"Enter the date in mm/dd/yyyy format: \")\n",
    "month, day, year = date_string.split('/')\n",
    "month_names = {\n",
    "    '01': 'January', '02': 'February', '03': 'March', '04': 'April',\n",
    "    '05': 'May', '06': 'June', '07': 'July', '08': 'August',\n",
    "    '09': 'September', '10': 'October', '11': 'November', '12': 'December'\n",
    "}\n",
    "month_name = month_names.get(month, \"Invalid month\")\n",
    "print(f\"{month_name} {int(day)}, {year}\")\n"
   ]
  }
 ],
 "metadata": {
  "kernelspec": {
   "display_name": "Python 3 (ipykernel)",
   "language": "python",
   "name": "python3"
  },
  "language_info": {
   "codemirror_mode": {
    "name": "ipython",
    "version": 3
   },
   "file_extension": ".py",
   "mimetype": "text/x-python",
   "name": "python",
   "nbconvert_exporter": "python",
   "pygments_lexer": "ipython3",
   "version": "3.12.7"
  }
 },
 "nbformat": 4,
 "nbformat_minor": 5
}
